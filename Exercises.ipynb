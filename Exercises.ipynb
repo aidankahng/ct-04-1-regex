{
 "cells": [
  {
   "cell_type": "code",
   "execution_count": 1,
   "metadata": {},
   "outputs": [],
   "source": [
    "import re"
   ]
  },
  {
   "cell_type": "markdown",
   "metadata": {},
   "source": [
    "### Exercise 1"
   ]
  },
  {
   "cell_type": "markdown",
   "metadata": {},
   "source": [
    "Write a function that takes in a tweet and returns a list of the hashtags in the tweet<br>\n",
    "Ex. 1<br>\n",
    "tweet = \"Python is the best #Python #Programming #CodingTemple\"<br>\n",
    "Expected Output: [\"#Python\", \"#Programming\", \"#CodingTemple\"]<br>\n",
    "\n",
    "Ex. 2<br>\n",
    "tweet = \"I love my life! #blessed\"<br>\n",
    "Expected Output: [\"#bleesed\"]<br>\n",
    "\n",
    "Ex. 3<br>\n",
    "tweet = \"Bear Down\"<br>\n",
    "Expected Output: []<br>\n"
   ]
  },
  {
   "cell_type": "code",
   "execution_count": 15,
   "metadata": {},
   "outputs": [
    {
     "name": "stdout",
     "output_type": "stream",
     "text": [
      "['#Python', '#Programming', '#CodingTemple']\n",
      "['#blessed']\n",
      "[]\n"
     ]
    }
   ],
   "source": [
    "hashtag_regex = r'#[A-Za-z0-9]+'\n",
    "\n",
    "def get_hashtags(input:str):\n",
    "    return re.findall(hashtag_regex, input)\n",
    "\n",
    "\n",
    "######## TESTS ########\n",
    "tweet1 = \"Python is the best #Python #Programming #CodingTemple\"\n",
    "tweet2 = \"I love my life! #blessed\"\n",
    "tweet3 = \"Bear Down\"\n",
    "\n",
    "print(get_hashtags(tweet1))\n",
    "print(get_hashtags(tweet2))\n",
    "print(get_hashtags(tweet3))"
   ]
  },
  {
   "cell_type": "markdown",
   "metadata": {},
   "source": [
    "### Exercise 2"
   ]
  },
  {
   "cell_type": "markdown",
   "metadata": {},
   "source": [
    "Develop a regular expression to validate a username. The username should start with a letter, followed by any combination of letters, numbers, underscores, and dots. It should be between 3 and 16 characters long<br>\n",
    "Ex. 1 <br>\n",
    "username = \"CodingTemple123\"<br>\n",
    "Expected Output: True<br>\n",
    "\n",
    "Ex. 2 <br>\n",
    "username = \"1love\"<br>\n",
    "Expected Output: False<br>\n",
    "\n",
    "Ex. 3 <br>\n",
    "username = \"CT\"<br>\n",
    "Expected Output: False<br>\n",
    "\n",
    "Ex. 4 <br>\n",
    "username = \"This_is_a_username_that_I_would_like_to_use\"<br>\n",
    "Expected Output: False<br>\n",
    "\n",
    "Ex. 5 <br>\n",
    "username = \"brian_ct123\"<br>\n",
    "Expected Output: True<br>"
   ]
  },
  {
   "cell_type": "code",
   "execution_count": 13,
   "metadata": {
    "scrolled": true
   },
   "outputs": [
    {
     "name": "stdout",
     "output_type": "stream",
     "text": [
      "Validation for CodingTemple123 is indeed True\n",
      "Validation for 1love is indeed False\n",
      "Validation for CT is indeed False\n",
      "Validation for This_is_a_username_that_I_would_like_to_use is indeed False\n",
      "Validation for brian_ct123 is indeed True\n"
     ]
    }
   ],
   "source": [
    "user_regex = r'^[A-Za-z][\\w.]{2,15}$'\n",
    "\n",
    "def is_valid_username(username:str) -> bool:\n",
    "    if re.match(user_regex, username):\n",
    "        return True\n",
    "    else:\n",
    "        return False\n",
    "\n",
    "usernames = [\"CodingTemple123\", \"1love\", \"CT\", \"This_is_a_username_that_I_would_like_to_use\", \"brian_ct123\"]\n",
    "correct_responses = [True, False, False, False, True]  # Used to compare results to given test cases\n",
    "\n",
    "for i in range(len(usernames)):\n",
    "    valid_bool = is_valid_username(usernames[i])\n",
    "    if valid_bool == correct_responses[i]:\n",
    "        print(f\"Validation for {usernames[i]} is indeed {valid_bool}\")\n",
    "    else:\n",
    "        print(f\"OOPSIES! Validation failed for {usernames[i]}. It should not return {valid_bool}\")\n"
   ]
  },
  {
   "cell_type": "markdown",
   "metadata": {},
   "source": [
    "### Exercise 3"
   ]
  },
  {
   "cell_type": "markdown",
   "metadata": {},
   "source": [
    "Using the Python `open()` function, read in the `example.txt` file (attached in Google Classroom, make sure it is in the same folder as this notebook). Create a pattern that will find all of the dates in the text. Dates are in the format of YYYY-MM-DD. The pattern should have groups for year, month, and day. Using the `.finditer()` method, iterate over the dates and print in format of month/day/year<br>"
   ]
  },
  {
   "cell_type": "markdown",
   "metadata": {},
   "source": [
    "Output:\n",
    "```\n",
    "05/15/1990\n",
    "09/20/2015\n",
    "12/03/1985\n",
    "06/18/2010\n",
    "11/30/2002\n",
    "08/10/1978\n",
    "04/25/1992\n",
    "07/07/2019\n",
    "02/12/1980\n",
    "03/22/2005\n",
    "```"
   ]
  },
  {
   "cell_type": "code",
   "execution_count": 16,
   "metadata": {},
   "outputs": [
    {
     "name": "stdout",
     "output_type": "stream",
     "text": [
      "05/15/1990\n",
      "09/20/2015\n",
      "12/03/1985\n",
      "06/18/2010\n",
      "11/30/2002\n",
      "08/10/1978\n",
      "04/25/1992\n",
      "07/07/2019\n",
      "02/12/1980\n",
      "03/22/2005\n"
     ]
    }
   ],
   "source": [
    "date_regex = r\"(?P<year>\\d{4})-(?P<month>\\d{2})-(?P<day>\\d{2})\"\n",
    "\n",
    "with open(\"example.txt\") as file:\n",
    "    data_str = file.read()\n",
    "\n",
    "all_dates = re.finditer(date_regex, data_str)\n",
    "# print(all_dates)\n",
    "for date in all_dates:\n",
    "    print(f\"{date.group('month')}/{date.group('day')}/{date.group('year')}\")"
   ]
  },
  {
   "cell_type": "code",
   "execution_count": null,
   "metadata": {},
   "outputs": [],
   "source": []
  }
 ],
 "metadata": {
  "kernelspec": {
   "display_name": "Python 3 (ipykernel)",
   "language": "python",
   "name": "python3"
  },
  "language_info": {
   "codemirror_mode": {
    "name": "ipython",
    "version": 3
   },
   "file_extension": ".py",
   "mimetype": "text/x-python",
   "name": "python",
   "nbconvert_exporter": "python",
   "pygments_lexer": "ipython3",
   "version": "3.11.5"
  }
 },
 "nbformat": 4,
 "nbformat_minor": 4
}
